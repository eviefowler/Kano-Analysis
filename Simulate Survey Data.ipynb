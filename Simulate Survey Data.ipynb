{
 "cells": [
  {
   "cell_type": "code",
   "execution_count": 1,
   "id": "8084da90",
   "metadata": {},
   "outputs": [],
   "source": [
    "import random\n",
    "import pandas as pd"
   ]
  },
  {
   "cell_type": "markdown",
   "id": "90badd03",
   "metadata": {},
   "source": [
    "# Kano Analysis\n",
    "## Kano analysis is a framework for prioritizing product features from a backlog\n",
    "## To conduct a Kano analysis, we need:\n",
    "- A set of users to survey\n",
    "- A small set of features to study\n",
    "- Two questions about each feature:\n",
    "    - Functional question: How do you feel when Feature X is available?\n",
    "    - Dysfunctional question: How do you feel when Feature X is unavailable?\n",
    "- A limited list of valid answers to each question"
   ]
  },
  {
   "cell_type": "code",
   "execution_count": 2,
   "id": "e5ed3f2e",
   "metadata": {},
   "outputs": [],
   "source": [
    "# simulate 100 users to be surveyed\n",
    "users = [f'User {i}' for i in range(1, 101)]\n",
    "\n",
    "# simulate 5 features to be studied\n",
    "features = [f'Feature {i}' for i in range(1, 6)]\n",
    "\n",
    "# specify the valid answers for each question\n",
    "potentialAnswers = ['Like it', 'Expect it', 'Don\\'t care', 'Can live with it', 'Dislike it']"
   ]
  },
  {
   "cell_type": "code",
   "execution_count": 3,
   "id": "dbb066b7",
   "metadata": {},
   "outputs": [
    {
     "data": {
      "text/html": [
       "<div>\n",
       "<style scoped>\n",
       "    .dataframe tbody tr th:only-of-type {\n",
       "        vertical-align: middle;\n",
       "    }\n",
       "\n",
       "    .dataframe tbody tr th {\n",
       "        vertical-align: top;\n",
       "    }\n",
       "\n",
       "    .dataframe thead th {\n",
       "        text-align: right;\n",
       "    }\n",
       "</style>\n",
       "<table border=\"1\" class=\"dataframe\">\n",
       "  <thead>\n",
       "    <tr style=\"text-align: right;\">\n",
       "      <th></th>\n",
       "      <th>Like it</th>\n",
       "      <th>Expect it</th>\n",
       "      <th>Don't care</th>\n",
       "      <th>Can live with it</th>\n",
       "      <th>Dislike it</th>\n",
       "    </tr>\n",
       "  </thead>\n",
       "  <tbody>\n",
       "    <tr>\n",
       "      <th>Like it</th>\n",
       "      <td>0.1</td>\n",
       "      <td>0.1</td>\n",
       "      <td>0.1</td>\n",
       "      <td>0.1</td>\n",
       "      <td>0.6</td>\n",
       "    </tr>\n",
       "    <tr>\n",
       "      <th>Expect it</th>\n",
       "      <td>0.1</td>\n",
       "      <td>0.1</td>\n",
       "      <td>0.1</td>\n",
       "      <td>0.6</td>\n",
       "      <td>0.1</td>\n",
       "    </tr>\n",
       "    <tr>\n",
       "      <th>Don't care</th>\n",
       "      <td>0.1</td>\n",
       "      <td>0.1</td>\n",
       "      <td>0.6</td>\n",
       "      <td>0.1</td>\n",
       "      <td>0.1</td>\n",
       "    </tr>\n",
       "    <tr>\n",
       "      <th>Can live with it</th>\n",
       "      <td>0.1</td>\n",
       "      <td>0.6</td>\n",
       "      <td>0.1</td>\n",
       "      <td>0.1</td>\n",
       "      <td>0.1</td>\n",
       "    </tr>\n",
       "    <tr>\n",
       "      <th>Dislike it</th>\n",
       "      <td>0.6</td>\n",
       "      <td>0.1</td>\n",
       "      <td>0.1</td>\n",
       "      <td>0.1</td>\n",
       "      <td>0.1</td>\n",
       "    </tr>\n",
       "  </tbody>\n",
       "</table>\n",
       "</div>"
      ],
      "text/plain": [
       "                 Like it Expect it Don't care Can live with it Dislike it\n",
       "Like it              0.1       0.1        0.1              0.1        0.6\n",
       "Expect it            0.1       0.1        0.1              0.6        0.1\n",
       "Don't care           0.1       0.1        0.6              0.1        0.1\n",
       "Can live with it     0.1       0.6        0.1              0.1        0.1\n",
       "Dislike it           0.6       0.1        0.1              0.1        0.1"
      ]
     },
     "execution_count": 3,
     "metadata": {},
     "output_type": "execute_result"
    }
   ],
   "source": [
    "# define a weight matrix that approximates the relationship between functional and dysfunctional answers about the same feature\n",
    "weights = pd.DataFrame(columns = potentialAnswers, index = potentialAnswers)\n",
    "weights.loc['Like it'] = [0.1, 0.1, 0.1, 0.1, 0.6]\n",
    "weights.loc['Expect it'] = [0.1, 0.1, 0.1, 0.6, 0.1]\n",
    "weights.loc['Don\\'t care'] = [0.1, 0.1, 0.6, 0.1, 0.1]\n",
    "weights.loc['Can live with it'] = [0.1, 0.6, 0.1, 0.1, 0.1]\n",
    "weights.loc['Dislike it'] = [0.6, 0.1, 0.1, 0.1, 0.1]\n",
    "weights"
   ]
  },
  {
   "cell_type": "code",
   "execution_count": 4,
   "id": "e69b521d",
   "metadata": {},
   "outputs": [],
   "source": [
    "# simulate a set of answers for each user\n",
    "answers = pd.DataFrame()\n",
    "for user in users:\n",
    "    for feature in features:\n",
    "        # simulate variation in answer to functional question\n",
    "        functionalAnswer = random.choice(potentialAnswers)\n",
    "        \n",
    "        # expect an inverse response to the dysfunctional question - with some variation\n",
    "        dysfunctionalAnswer = random.choices(potentialAnswers, weights = weights.loc[functionalAnswer], k = 1)[0]\n",
    "        \n",
    "        # combine these elements\n",
    "        answer = pd.DataFrame([[user, feature, functionalAnswer, dysfunctionalAnswer]]\n",
    "                              , columns = ['User', 'Feature', 'Functional Answer', 'Dysfunctional Answer'])\n",
    "        \n",
    "        # stack responses\n",
    "        answers = pd.concat([answers, answer], ignore_index = True)\n",
    "        \n",
    "# convert answers to ordered categorical features for ease of evaluation\n",
    "answers['Functional Answer'] = pd.Categorical(answers['Functional Answer']\n",
    "                                              , categories = potentialAnswers, ordered = True)\n",
    "answers['Dysfunctional Answer'] = pd.Categorical(answers['Dysfunctional Answer']\n",
    "                                                 , categories = potentialAnswers, ordered = True)"
   ]
  },
  {
   "cell_type": "code",
   "execution_count": 5,
   "id": "ed436da6",
   "metadata": {},
   "outputs": [
    {
     "data": {
      "text/plain": [
       "Functional Answer  Dysfunctional Answer\n",
       "Like it            Like it                  8\n",
       "                   Expect it                8\n",
       "                   Don't care               8\n",
       "                   Can live with it        12\n",
       "                   Dislike it              72\n",
       "Expect it          Like it                  3\n",
       "                   Expect it                7\n",
       "                   Don't care               9\n",
       "                   Can live with it        73\n",
       "                   Dislike it               7\n",
       "Don't care         Like it                  5\n",
       "                   Expect it                8\n",
       "                   Don't care              66\n",
       "                   Can live with it        13\n",
       "                   Dislike it              11\n",
       "Can live with it   Like it                  7\n",
       "                   Expect it               67\n",
       "                   Don't care              10\n",
       "                   Can live with it         9\n",
       "                   Dislike it               9\n",
       "Dislike it         Like it                 49\n",
       "                   Expect it                6\n",
       "                   Don't care               8\n",
       "                   Can live with it        12\n",
       "                   Dislike it              13\n",
       "Name: User, dtype: int64"
      ]
     },
     "execution_count": 5,
     "metadata": {},
     "output_type": "execute_result"
    }
   ],
   "source": [
    "# verify that answers are sensible\n",
    "answers.groupby(['Functional Answer', 'Dysfunctional Answer'])['User'].count()"
   ]
  },
  {
   "cell_type": "code",
   "execution_count": null,
   "id": "eeed027c",
   "metadata": {},
   "outputs": [],
   "source": []
  }
 ],
 "metadata": {
  "kernelspec": {
   "display_name": "Python 3 (ipykernel)",
   "language": "python",
   "name": "python3"
  },
  "language_info": {
   "codemirror_mode": {
    "name": "ipython",
    "version": 3
   },
   "file_extension": ".py",
   "mimetype": "text/x-python",
   "name": "python",
   "nbconvert_exporter": "python",
   "pygments_lexer": "ipython3",
   "version": "3.10.11"
  }
 },
 "nbformat": 4,
 "nbformat_minor": 5
}
