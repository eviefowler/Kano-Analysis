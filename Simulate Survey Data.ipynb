{
 "cells": [
  {
   "cell_type": "code",
   "execution_count": 2,
   "id": "8084da90",
   "metadata": {},
   "outputs": [],
   "source": [
    "import random\n",
    "import pandas as pd"
   ]
  },
  {
   "cell_type": "markdown",
   "id": "90badd03",
   "metadata": {},
   "source": [
    "# Kano Analysis\n",
    "## Kano analysis is a framework for prioritizing product features from a backlog\n",
    "## To conduct a Kano analysis, we need:\n",
    "- A set of users to survey\n",
    "- A small set of features to study\n",
    "- Two questions about each feature:\n",
    "    - Functional question: How do you feel when Feature X is available?\n",
    "    - Dysfunctional question: How do you feel when Feature X is unavailable?\n",
    "- A limited list of valid answers to each question"
   ]
  },
  {
   "cell_type": "code",
   "execution_count": 3,
   "id": "e5ed3f2e",
   "metadata": {},
   "outputs": [],
   "source": [
    "# simulate 100 users to be surveyed\n",
    "users = [f'User {i}' for i in range(1, 101)]\n",
    "\n",
    "# simulate 5 features to be studied\n",
    "features = [f'Feature {i}' for i in range(1, 6)]\n",
    "\n",
    "# specify the valid answers for each question\n",
    "potentialAnswers = ['Like it', 'Expect it', 'Don\\'t care', 'Can live with it', 'Dislike it']"
   ]
  },
  {
   "cell_type": "code",
   "execution_count": 4,
   "id": "dbb066b7",
   "metadata": {},
   "outputs": [
    {
     "data": {
      "text/html": [
       "<div>\n",
       "<style scoped>\n",
       "    .dataframe tbody tr th:only-of-type {\n",
       "        vertical-align: middle;\n",
       "    }\n",
       "\n",
       "    .dataframe tbody tr th {\n",
       "        vertical-align: top;\n",
       "    }\n",
       "\n",
       "    .dataframe thead th {\n",
       "        text-align: right;\n",
       "    }\n",
       "</style>\n",
       "<table border=\"1\" class=\"dataframe\">\n",
       "  <thead>\n",
       "    <tr style=\"text-align: right;\">\n",
       "      <th></th>\n",
       "      <th>Like it</th>\n",
       "      <th>Expect it</th>\n",
       "      <th>Don't care</th>\n",
       "      <th>Can live with it</th>\n",
       "      <th>Dislike it</th>\n",
       "    </tr>\n",
       "  </thead>\n",
       "  <tbody>\n",
       "    <tr>\n",
       "      <th>Like it</th>\n",
       "      <td>0.05</td>\n",
       "      <td>0.05</td>\n",
       "      <td>0.2</td>\n",
       "      <td>0.55</td>\n",
       "      <td>0.15</td>\n",
       "    </tr>\n",
       "    <tr>\n",
       "      <th>Expect it</th>\n",
       "      <td>0.01</td>\n",
       "      <td>0.01</td>\n",
       "      <td>0.01</td>\n",
       "      <td>0.85</td>\n",
       "      <td>0.12</td>\n",
       "    </tr>\n",
       "    <tr>\n",
       "      <th>Don't care</th>\n",
       "      <td>0.01</td>\n",
       "      <td>0.15</td>\n",
       "      <td>0.7</td>\n",
       "      <td>0.1</td>\n",
       "      <td>0.13</td>\n",
       "    </tr>\n",
       "    <tr>\n",
       "      <th>Can live with it</th>\n",
       "      <td>0.59</td>\n",
       "      <td>0.39</td>\n",
       "      <td>0.01</td>\n",
       "      <td>0.005</td>\n",
       "      <td>0.005</td>\n",
       "    </tr>\n",
       "    <tr>\n",
       "      <th>Dislike it</th>\n",
       "      <td>0.85</td>\n",
       "      <td>0.01</td>\n",
       "      <td>0.01</td>\n",
       "      <td>0.12</td>\n",
       "      <td>0.01</td>\n",
       "    </tr>\n",
       "  </tbody>\n",
       "</table>\n",
       "</div>"
      ],
      "text/plain": [
       "                 Like it Expect it Don't care Can live with it Dislike it\n",
       "Like it             0.05      0.05        0.2             0.55       0.15\n",
       "Expect it           0.01      0.01       0.01             0.85       0.12\n",
       "Don't care          0.01      0.15        0.7              0.1       0.13\n",
       "Can live with it    0.59      0.39       0.01            0.005      0.005\n",
       "Dislike it          0.85      0.01       0.01             0.12       0.01"
      ]
     },
     "execution_count": 4,
     "metadata": {},
     "output_type": "execute_result"
    }
   ],
   "source": [
    "# define a weight matrix that approximates the relationship between functional and dysfunctional answers about the same feature\n",
    "weights = pd.DataFrame(columns = potentialAnswers, index = potentialAnswers)\n",
    "weights.loc['Like it'] = [0.05, 0.05, 0.2, 0.55, 0.15]\n",
    "weights.loc['Expect it'] = [0.01, 0.01, 0.01, 0.85, 0.12]\n",
    "weights.loc['Don\\'t care'] = [0.01, 0.15, 0.7, 0.1, 0.13]\n",
    "weights.loc['Can live with it'] = [0.59, 0.39, 0.01, 0.005, 0.005]\n",
    "weights.loc['Dislike it'] = [0.85, 0.01, 0.01, 0.12, 0.01]\n",
    "weights"
   ]
  },
  {
   "cell_type": "code",
   "execution_count": 5,
   "id": "2e50e9e9",
   "metadata": {},
   "outputs": [
    {
     "data": {
      "text/plain": [
       "Like it             1.00\n",
       "Expect it           1.00\n",
       "Don't care          1.09\n",
       "Can live with it    1.00\n",
       "Dislike it          1.00\n",
       "dtype: float64"
      ]
     },
     "execution_count": 5,
     "metadata": {},
     "output_type": "execute_result"
    }
   ],
   "source": [
    "weights.sum(axis = 1)"
   ]
  },
  {
   "cell_type": "code",
   "execution_count": 7,
   "id": "e69b521d",
   "metadata": {},
   "outputs": [],
   "source": [
    "# simulate a set of answers for each user\n",
    "answers = pd.DataFrame()\n",
    "for user in users:\n",
    "    for feature in features:\n",
    "        # simulate variation in answer to functional question\n",
    "        functionalAnswer = random.choices(potentialAnswers, weights = [0.15, 0.60, 0.10, 0.05, 0.10], k = 1)[0]\n",
    "        \n",
    "        # expect an inverse response to the dysfunctional question - with some variation\n",
    "        dysfunctionalAnswer = random.choices(potentialAnswers, weights = weights.loc[functionalAnswer], k = 1)[0]\n",
    "        \n",
    "        # combine these elements\n",
    "        answer = pd.DataFrame([[user, feature, functionalAnswer, dysfunctionalAnswer]]\n",
    "                              , columns = ['User', 'Feature', 'Functional Answer', 'Dysfunctional Answer'])\n",
    "        \n",
    "        # stack responses\n",
    "        answers = pd.concat([answers, answer], ignore_index = True)\n",
    "        \n",
    "# convert answers to ordered categorical features for ease of evaluation\n",
    "answers['Functional Answer'] = pd.Categorical(answers['Functional Answer']\n",
    "                                              , categories = potentialAnswers, ordered = True)\n",
    "answers['Dysfunctional Answer'] = pd.Categorical(answers['Dysfunctional Answer']\n",
    "                                                 , categories = potentialAnswers, ordered = True)"
   ]
  },
  {
   "cell_type": "code",
   "execution_count": 12,
   "id": "ed436da6",
   "metadata": {},
   "outputs": [
    {
     "data": {
      "text/html": [
       "<div>\n",
       "<style scoped>\n",
       "    .dataframe tbody tr th:only-of-type {\n",
       "        vertical-align: middle;\n",
       "    }\n",
       "\n",
       "    .dataframe tbody tr th {\n",
       "        vertical-align: top;\n",
       "    }\n",
       "\n",
       "    .dataframe thead th {\n",
       "        text-align: right;\n",
       "    }\n",
       "</style>\n",
       "<table border=\"1\" class=\"dataframe\">\n",
       "  <thead>\n",
       "    <tr style=\"text-align: right;\">\n",
       "      <th>Dysfunctional Answer</th>\n",
       "      <th>Like it</th>\n",
       "      <th>Expect it</th>\n",
       "      <th>Don't care</th>\n",
       "      <th>Can live with it</th>\n",
       "      <th>Dislike it</th>\n",
       "    </tr>\n",
       "    <tr>\n",
       "      <th>Functional Answer</th>\n",
       "      <th></th>\n",
       "      <th></th>\n",
       "      <th></th>\n",
       "      <th></th>\n",
       "      <th></th>\n",
       "    </tr>\n",
       "  </thead>\n",
       "  <tbody>\n",
       "    <tr>\n",
       "      <th>Like it</th>\n",
       "      <td>4</td>\n",
       "      <td>2</td>\n",
       "      <td>16</td>\n",
       "      <td>44</td>\n",
       "      <td>9</td>\n",
       "    </tr>\n",
       "    <tr>\n",
       "      <th>Expect it</th>\n",
       "      <td>3</td>\n",
       "      <td>3</td>\n",
       "      <td>5</td>\n",
       "      <td>268</td>\n",
       "      <td>35</td>\n",
       "    </tr>\n",
       "    <tr>\n",
       "      <th>Don't care</th>\n",
       "      <td>2</td>\n",
       "      <td>9</td>\n",
       "      <td>30</td>\n",
       "      <td>5</td>\n",
       "      <td>3</td>\n",
       "    </tr>\n",
       "    <tr>\n",
       "      <th>Can live with it</th>\n",
       "      <td>14</td>\n",
       "      <td>7</td>\n",
       "      <td>0</td>\n",
       "      <td>0</td>\n",
       "      <td>0</td>\n",
       "    </tr>\n",
       "    <tr>\n",
       "      <th>Dislike it</th>\n",
       "      <td>34</td>\n",
       "      <td>0</td>\n",
       "      <td>0</td>\n",
       "      <td>7</td>\n",
       "      <td>0</td>\n",
       "    </tr>\n",
       "  </tbody>\n",
       "</table>\n",
       "</div>"
      ],
      "text/plain": [
       "Dysfunctional Answer  Like it  Expect it  Don't care  Can live with it  \\\n",
       "Functional Answer                                                        \n",
       "Like it                     4          2          16                44   \n",
       "Expect it                   3          3           5               268   \n",
       "Don't care                  2          9          30                 5   \n",
       "Can live with it           14          7           0                 0   \n",
       "Dislike it                 34          0           0                 7   \n",
       "\n",
       "Dysfunctional Answer  Dislike it  \n",
       "Functional Answer                 \n",
       "Like it                        9  \n",
       "Expect it                     35  \n",
       "Don't care                     3  \n",
       "Can live with it               0  \n",
       "Dislike it                     0  "
      ]
     },
     "execution_count": 12,
     "metadata": {},
     "output_type": "execute_result"
    }
   ],
   "source": [
    "# verify that answers are sensible\n",
    "pd.pivot_table(answers, index = 'Functional Answer', columns = 'Dysfunctional Answer', aggfunc = 'count', values = 'User')"
   ]
  },
  {
   "cell_type": "code",
   "execution_count": 9,
   "id": "eeed027c",
   "metadata": {},
   "outputs": [],
   "source": [
    "answers.to_csv('./data/Survey Data.csv', index = False)"
   ]
  },
  {
   "cell_type": "code",
   "execution_count": null,
   "id": "7feca7d7",
   "metadata": {},
   "outputs": [],
   "source": []
  }
 ],
 "metadata": {
  "kernelspec": {
   "display_name": "Python 3 (ipykernel)",
   "language": "python",
   "name": "python3"
  },
  "language_info": {
   "codemirror_mode": {
    "name": "ipython",
    "version": 3
   },
   "file_extension": ".py",
   "mimetype": "text/x-python",
   "name": "python",
   "nbconvert_exporter": "python",
   "pygments_lexer": "ipython3",
   "version": "3.10.11"
  }
 },
 "nbformat": 4,
 "nbformat_minor": 5
}
